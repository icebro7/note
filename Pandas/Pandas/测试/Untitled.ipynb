{
 "cells": [
  {
   "cell_type": "code",
   "execution_count": 2,
   "id": "advanced-stocks",
   "metadata": {},
   "outputs": [],
   "source": [
    "import numpy as np\n",
    "import pandas as pd"
   ]
  },
  {
   "cell_type": "code",
   "execution_count": 9,
   "id": "common-machinery",
   "metadata": {},
   "outputs": [
    {
     "data": {
      "text/plain": [
       "1     1\n",
       "2     a\n",
       "3     c\n",
       "5    12\n",
       "dtype: object"
      ]
     },
     "execution_count": 9,
     "metadata": {},
     "output_type": "execute_result"
    }
   ],
   "source": [
    "data=pd.Series([1,'a','c',12],index=[1,2,3,5])\n",
    "data"
   ]
  },
  {
   "cell_type": "code",
   "execution_count": 3,
   "id": "twenty-cannon",
   "metadata": {},
   "outputs": [
    {
     "name": "stdout",
     "output_type": "stream",
     "text": [
      "  name  age        money\n",
      "0   博辉   18    195155663\n",
      "1   逗翔   20  16544123123\n",
      "2   老江   24     22312312\n",
      "3   林杰   22     23145621\n"
     ]
    }
   ],
   "source": [
    "data={\n",
    "    'name':['博辉','逗翔','老江','林杰'],\n",
    "    'age':[18,20,24,22],\n",
    "    'money':[195155663,16544123123,22312312,23145621]\n",
    "}\n",
    "data=pd.DataFrame(data)\n",
    "print(data)"
   ]
  },
  {
   "cell_type": "code",
   "execution_count": 8,
   "id": "worth-average",
   "metadata": {},
   "outputs": [
    {
     "data": {
      "text/plain": [
       "name     object\n",
       "age       int64\n",
       "money     int64\n",
       "dtype: object"
      ]
     },
     "execution_count": 8,
     "metadata": {},
     "output_type": "execute_result"
    }
   ],
   "source": [
    "data.dtypes\n",
    "# data['age']=data['age'].str.replace('18','32').astype('int32')\n",
    "# data"
   ]
  },
  {
   "cell_type": "code",
   "execution_count": 22,
   "id": "statewide-analyst",
   "metadata": {},
   "outputs": [
    {
     "name": "stdout",
     "output_type": "stream",
     "text": [
      "  name  age\n",
      "0   博辉   18\n",
      "1   逗翔   20\n",
      "2   老江   24\n",
      "3   林杰   22\n"
     ]
    }
   ],
   "source": [
    "print(data[['name','age']])"
   ]
  },
  {
   "cell_type": "code",
   "execution_count": 23,
   "id": "medical-patch",
   "metadata": {},
   "outputs": [
    {
     "name": "stdout",
     "output_type": "stream",
     "text": [
      "  name      money\n",
      "0   博辉  195155663\n",
      "2   老江   22312312\n"
     ]
    }
   ],
   "source": [
    "print(data.loc[[0,2],['name','money']])"
   ]
  },
  {
   "cell_type": "code",
   "execution_count": 35,
   "id": "rental-affairs",
   "metadata": {},
   "outputs": [],
   "source": [
    "data.set_index('name',inplace=True)"
   ]
  },
  {
   "cell_type": "code",
   "execution_count": 33,
   "id": "indian-genealogy",
   "metadata": {},
   "outputs": [
    {
     "name": "stdout",
     "output_type": "stream",
     "text": [
      "Index(['博辉', '逗翔', '老江', '林杰'], dtype='object', name='name')\n"
     ]
    }
   ],
   "source": [
    "data\n",
    "print(data.index)"
   ]
  },
  {
   "cell_type": "code",
   "execution_count": null,
   "id": "extra-review",
   "metadata": {},
   "outputs": [],
   "source": []
  }
 ],
 "metadata": {
  "kernelspec": {
   "display_name": "Python 3",
   "language": "python",
   "name": "python3"
  },
  "language_info": {
   "codemirror_mode": {
    "name": "ipython",
    "version": 3
   },
   "file_extension": ".py",
   "mimetype": "text/x-python",
   "name": "python",
   "nbconvert_exporter": "python",
   "pygments_lexer": "ipython3",
   "version": "3.7.4"
  }
 },
 "nbformat": 4,
 "nbformat_minor": 5
}
